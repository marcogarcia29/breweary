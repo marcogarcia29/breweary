{
 "cells": [
  {
   "cell_type": "code",
   "execution_count": 69,
   "metadata": {},
   "outputs": [],
   "source": [
    "from pyspark.sql import SparkSession\n",
    "from pyspark.sql.functions import *\n",
    "import sys\n",
    "from datetime import date, timedelta"
   ]
  },
  {
   "cell_type": "code",
   "execution_count": 5,
   "metadata": {},
   "outputs": [
    {
     "name": "stderr",
     "output_type": "stream",
     "text": [
      "Setting default log level to \"WARN\".\n",
      "To adjust logging level use sc.setLogLevel(newLevel). For SparkR, use setLogLevel(newLevel).\n",
      "24/05/29 21:24:51 WARN NativeCodeLoader: Unable to load native-hadoop library for your platform... using builtin-java classes where applicable\n"
     ]
    }
   ],
   "source": [
    "spark = SparkSession \\\n",
    "    .builder \\\n",
    "    .appName(\"Brewery\") \\\n",
    "    .getOrCreate()"
   ]
  },
  {
   "cell_type": "code",
   "execution_count": 13,
   "metadata": {},
   "outputs": [],
   "source": [
    "df = spark.read.json(\"bronze/data.json\",multiLine=True)"
   ]
  },
  {
   "cell_type": "code",
   "execution_count": 52,
   "metadata": {},
   "outputs": [
    {
     "name": "stdout",
     "output_type": "stream",
     "text": [
      "+--------------------+--------------+--------------+------------+--------------+-------------+--------------------+-----------------+------------------+--------------------+-------------+-------------------+-------------+-------------------+--------------------+--------------------+\n",
      "|      name_address_1|name_address_2|name_address_3|brewery_type|     name_city| name_country|          id_brewery| latitude_brewery| longitude_brewery|        name_brewery|phone_brewery|postal_code_brewery|   name_state|name_state_province|         name_street|         website_url|\n",
      "+--------------------+--------------+--------------+------------+--------------+-------------+--------------------+-----------------+------------------+--------------------+-------------+-------------------+-------------+-------------------+--------------------+--------------------+\n",
      "|      1716 Topeka St|          NULL|          NULL|       micro|        Norman|United States|5128df48-79fc-4f0...|      35.25738891|      -97.46818222|    (405) Brewing Co|   4058160490|         73069-8224|     Oklahoma|           Oklahoma|      1716 Topeka St|http://www.405bre...|\n",
      "|407 Radam Ln Ste ...|          NULL|          NULL|       micro|        Austin|United States|9c5a66c8-cc13-416...|             NULL|              NULL|    (512) Brewing Co|   5129211545|         78745-1197|        Texas|              Texas|407 Radam Ln Ste ...|http://www.512bre...|\n",
      "| 8100 Washington Ave|          NULL|          NULL|       micro|Mount Pleasant|United States|34e8c68b-6146-453...|42.72010826899558|-87.88336350209435|1 of Us Brewing C...|   2624847553|         53406-3920|    Wisconsin|          Wisconsin| 8100 Washington Ave|https://www.1ofus...|\n",
      "|           1501 E St|          NULL|          NULL|       large|     San Diego|United States|ef970757-fe42-416...|        32.714813|       -117.129593|10 Barrel Brewing Co|   6195782311|         92101-6618|   California|         California|           1501 E St| http://10barrel.com|\n",
      "|       62970 18th St|          NULL|          NULL|       large|          Bend|United States|6d14b220-8926-452...|      44.08683531|       -121.281706|10 Barrel Brewing Co|   5415851007|         97701-9847|       Oregon|             Oregon|       62970 18th St|http://www.10barr...|\n",
      "|1135 NW Galveston...|          NULL|          NULL|       large|          Bend|United States|e2e78bd8-80ff-4a6...|       44.0575649|      -121.3288021|10 Barrel Brewing Co|   5415851007|         97703-2465|       Oregon|             Oregon|1135 NW Galveston...|                NULL|\n",
      "| 1411 NW Flanders St|          NULL|          NULL|       large|      Portland|United States|e432899b-7f58-455...|       45.5259786|      -122.6855056|10 Barrel Brewing Co|   5032241700|         97209-2620|       Oregon|             Oregon| 1411 NW Flanders St|http://www.10barr...|\n",
      "|    62950 NE 18th St|          NULL|          NULL|       large|          Bend|United States|9f1852da-c312-42d...|       44.0912109|      -121.2809536|10 Barrel Brewing...|   5415851007|              97701|       Oregon|             Oregon|    62950 NE 18th St|                NULL|\n",
      "|    826 W Bannock St|          NULL|          NULL|       large|         Boise|United States|ea4f30c0-bce6-416...|        43.618516|       -116.202929|10 Barrel Brewing...|   2083445870|         83702-5857|        Idaho|              Idaho|    826 W Bannock St|http://www.10barr...|\n",
      "|      2620 Walnut St|          NULL|          NULL|       large|        Denver|United States|1988eb86-f0a2-467...|       39.7592508|      -104.9853655|10 Barrel Brewing...|   7205738992|         80205-2231|     Colorado|           Colorado|      2620 Walnut St|                NULL|\n",
      "|         490 Mill St|          NULL|          NULL|       micro|          Reno|United States|1ecc330f-6275-42a...|       39.5171702|      -119.7732015|10 Torr Distillin...|   7755307014|              89502|       Nevada|             Nevada|         490 Mill St|http://www.10torr...|\n",
      "|       400 Brown Cir|          NULL|          NULL|       micro|          Knox|United States|7531dbd8-afc9-4b5...|        41.289715|        -86.627954|10-56 Brewing Com...|   6308165790|              46534|      Indiana|            Indiana|       400 Brown Cir|                NULL|\n",
      "|294793 US Highway...|          NULL|          NULL|     brewpub|      Quilcene|United States|03118499-a3d0-4c2...|      47.82347577|      -122.8755823|         101 Brewery|   3607656485|         98376-9000|   Washington|         Washington|294793 US Highway...|http://www.101bre...|\n",
      "| 1304 Scott St Ste D|          NULL|          NULL|      closed|      Petaluma|United States|5ae467af-66dc-4d7...|      38.27029381|       -122.665055|101 North Brewing...|   7077534934|         94954-7100|   California|         California| 1304 Scott St Ste D|http://www.101nor...|\n",
      "|        1043 Park St|          NULL|          NULL|       micro|   Castle Rock|United States|4ffda196-dd59-44a...|      39.38269495|      -104.8667206| 105 West Brewing Co|   3033257321|         80109-1585|     Colorado|           Colorado|        1043 Park St|http://www.105wes...|\n",
      "|        2005 2nd Ave|          NULL|          NULL|       micro|         Anoka|United States|42aa37d5-8384-4ff...|      45.19812039|      -93.38952559|         10K Brewing|   7633924753|         55303-2243|    Minnesota|          Minnesota|        2005 2nd Ave|  http://10KBrew.com|\n",
      "|   491 Washington St|          NULL|          NULL|       micro|      Abington|United States|232e8f62-9afc-45f...|      42.10591754|      -70.94594149|10th District Bre...|   7813071554|         02351-2419|Massachusetts|      Massachusetts|   491 Washington St|http://www.10thdi...|\n",
      "|   6820 Bourgeois Rd|          NULL|          NULL|       micro|       Houston|United States|08f78223-24f8-4b7...|       29.9515464|       -95.5186591|11 Below Brewing ...|   2814442337|         77066-3107|        Texas|              Texas|   6820 Bourgeois Rd|http://www.11belo...|\n",
      "|       141 E Main St|          NULL|          NULL|     brewpub|      John Day|United States|58293321-14ae-49d...|       44.4146563|      -118.9218754|     1188 Brewing Co|   5415751188|         97845-1210|       Oregon|             Oregon|       141 E Main St|http://www.1188br...|\n",
      "|      Unnamed Street|      Clonmore|          NULL|       micro|     Killeshin|      Ireland|e5f3e72a-fee2-481...|      52.84930763|      -6.979343891|12 Acres Brewing ...| 353599107299|           R93 X3X8|        Laois|              Laois|      Unnamed Street|https://12acresbr...|\n",
      "+--------------------+--------------+--------------+------------+--------------+-------------+--------------------+-----------------+------------------+--------------------+-------------+-------------------+-------------+-------------------+--------------------+--------------------+\n",
      "only showing top 20 rows\n",
      "\n"
     ]
    }
   ],
   "source": [
    "df.show()"
   ]
  },
  {
   "cell_type": "code",
   "execution_count": 15,
   "metadata": {},
   "outputs": [],
   "source": [
    "df = df.withColumnRenamed(\"address_1\", \"name_address_1\") \\\n",
    "        .withColumnRenamed(\"address_2\", \"name_address_2\") \\\n",
    "        .withColumnRenamed(\"address_3\", \"name_address_3\") \\\n",
    "        .withColumnRenamed(\"street\", \"name_street\") \\\n",
    "        .withColumnRenamed(\"city\", \"name_city\") \\\n",
    "        .withColumnRenamed(\"country\", \"name_country\") \\\n",
    "        .withColumnRenamed(\"name\", \"name_brewery\") \\\n",
    "        .withColumnRenamed(\"id\", \"id_brewery\") \\\n",
    "        .withColumnRenamed(\"state\", \"name_state\") \\\n",
    "        .withColumnRenamed(\"state_province\", \"name_state_province\") \\\n",
    "        .withColumnRenamed(\"phone\", \"phone_brewery\") \\\n",
    "        .withColumnRenamed(\"latitude\", \"latitude_brewery\") \\\n",
    "        .withColumnRenamed(\"longitude\", \"longitude_brewery\") \\\n",
    "        .withColumnRenamed(\"postal_code\", \"postal_code_brewery\")"
   ]
  },
  {
   "cell_type": "code",
   "execution_count": 62,
   "metadata": {},
   "outputs": [
    {
     "name": "stdout",
     "output_type": "stream",
     "text": [
      "has no null values\n"
     ]
    }
   ],
   "source": [
    "if df.filter(df.name_state.isNull()).count() >= 1 or df.filter(df.brewery_type.isNull()).count() >= 1:\n",
    "    print(\"has null values\")\n",
    "    sys.exit()\n",
    "else:\n",
    "    print(\"has no null values\")"
   ]
  },
  {
   "cell_type": "code",
   "execution_count": 76,
   "metadata": {},
   "outputs": [],
   "source": [
    "today = date.today()"
   ]
  },
  {
   "cell_type": "code",
   "execution_count": 77,
   "metadata": {},
   "outputs": [],
   "source": [
    "df = df.withColumn(\"dt_load\", lit(today))"
   ]
  },
  {
   "cell_type": "code",
   "execution_count": 82,
   "metadata": {},
   "outputs": [
    {
     "name": "stderr",
     "output_type": "stream",
     "text": [
      "                                                                                \r"
     ]
    }
   ],
   "source": [
    "df.write.format(\"parquet\").mode(\"append\")\\\n",
    "        .partitionBy([\"name_state\"])\\\n",
    "        .option(\"mergeSchema\", \"true\").save(f'silver/day{today}')"
   ]
  }
 ],
 "metadata": {
  "kernelspec": {
   "display_name": "Python 3",
   "language": "python",
   "name": "python3"
  },
  "language_info": {
   "codemirror_mode": {
    "name": "ipython",
    "version": 3
   },
   "file_extension": ".py",
   "mimetype": "text/x-python",
   "name": "python",
   "nbconvert_exporter": "python",
   "pygments_lexer": "ipython3",
   "version": "3.10.12"
  }
 },
 "nbformat": 4,
 "nbformat_minor": 2
}
