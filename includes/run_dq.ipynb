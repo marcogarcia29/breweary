{
 "cells": [
  {
   "cell_type": "code",
   "execution_count": 1,
   "metadata": {},
   "outputs": [],
   "source": [
    "import great_expectations as gx\n",
    "from pyspark.sql import SparkSession\n",
    "from pyspark.sql.functions import *"
   ]
  },
  {
   "cell_type": "code",
   "execution_count": 2,
   "metadata": {},
   "outputs": [
    {
     "name": "stderr",
     "output_type": "stream",
     "text": [
      "Setting default log level to \"WARN\".\n",
      "To adjust logging level use sc.setLogLevel(newLevel). For SparkR, use setLogLevel(newLevel).\n",
      "24/07/10 16:25:37 WARN NativeCodeLoader: Unable to load native-hadoop library for your platform... using builtin-java classes where applicable\n"
     ]
    }
   ],
   "source": [
    "context = gx.get_context()\n",
    "\n",
    "spark = SparkSession \\\n",
    "        .builder \\\n",
    "        .appName(\"Brewery_dq\") \\\n",
    "        .getOrCreate()"
   ]
  },
  {
   "cell_type": "code",
   "execution_count": 3,
   "metadata": {},
   "outputs": [
    {
     "name": "stderr",
     "output_type": "stream",
     "text": [
      "                                                                                \r"
     ]
    }
   ],
   "source": [
    "df = spark.read.parquet(\"/opt/airflow/silver/\")\n",
    "dataframe_datasource = context.sources.add_or_update_spark(\n",
    "    name=\"spark_memory\"\n",
    ")"
   ]
  },
  {
   "cell_type": "code",
   "execution_count": 4,
   "metadata": {},
   "outputs": [],
   "source": [
    "data_asset = dataframe_datasource.add_dataframe_asset(name=\"dq_test\", dataframe=df)"
   ]
  },
  {
   "cell_type": "code",
   "execution_count": 5,
   "metadata": {},
   "outputs": [],
   "source": [
    "my_batch_request = data_asset.build_batch_request()"
   ]
  },
  {
   "cell_type": "code",
   "execution_count": 8,
   "metadata": {},
   "outputs": [
    {
     "data": {
      "text/plain": [
       "{\n",
       "  \"expectations\": [],\n",
       "  \"meta\": {\n",
       "    \"great_expectations_version\": \"0.18.18\"\n",
       "  },\n",
       "  \"data_asset_type\": null,\n",
       "  \"expectation_suite_name\": \"null_values\",\n",
       "  \"ge_cloud_id\": null\n",
       "}"
      ]
     },
     "execution_count": 8,
     "metadata": {},
     "output_type": "execute_result"
    }
   ],
   "source": [
    "expectation_name = \"null_values\"\n",
    "context.add_or_update_expectation_suite(expectation_suite_name=expectation_name)\n"
   ]
  },
  {
   "cell_type": "code",
   "execution_count": 9,
   "metadata": {},
   "outputs": [],
   "source": [
    "validator = context.get_validator(\n",
    "    batch_request=my_batch_request,\n",
    "    expectation_suite_name=expectation_name\n",
    ")"
   ]
  },
  {
   "cell_type": "code",
   "execution_count": 10,
   "metadata": {},
   "outputs": [
    {
     "data": {
      "application/vnd.jupyter.widget-view+json": {
       "model_id": "4af82394dfe149d391def06057326707",
       "version_major": 2,
       "version_minor": 0
      },
      "text/plain": [
       "Calculating Metrics:   0%|          | 0/1 [00:00<?, ?it/s]"
      ]
     },
     "metadata": {},
     "output_type": "display_data"
    },
    {
     "name": "stderr",
     "output_type": "stream",
     "text": [
      "                                                                                \r"
     ]
    },
    {
     "data": {
      "text/html": [
       "<div>\n",
       "<style scoped>\n",
       "    .dataframe tbody tr th:only-of-type {\n",
       "        vertical-align: middle;\n",
       "    }\n",
       "\n",
       "    .dataframe tbody tr th {\n",
       "        vertical-align: top;\n",
       "    }\n",
       "\n",
       "    .dataframe thead th {\n",
       "        text-align: right;\n",
       "    }\n",
       "</style>\n",
       "<table border=\"1\" class=\"dataframe\">\n",
       "  <thead>\n",
       "    <tr style=\"text-align: right;\">\n",
       "      <th></th>\n",
       "      <th>name_address_1</th>\n",
       "      <th>name_address_2</th>\n",
       "      <th>name_address_3</th>\n",
       "      <th>brewery_type</th>\n",
       "      <th>name_city</th>\n",
       "      <th>name_country</th>\n",
       "      <th>id_brewery</th>\n",
       "      <th>latitude_brewery</th>\n",
       "      <th>longitude_brewery</th>\n",
       "      <th>name_brewery</th>\n",
       "      <th>phone_brewery</th>\n",
       "      <th>postal_code_brewery</th>\n",
       "      <th>name_state_province</th>\n",
       "      <th>name_street</th>\n",
       "      <th>website_url</th>\n",
       "      <th>dt_load</th>\n",
       "      <th>name_state</th>\n",
       "    </tr>\n",
       "  </thead>\n",
       "  <tbody>\n",
       "    <tr>\n",
       "      <th>0</th>\n",
       "      <td>62970 18th St</td>\n",
       "      <td>None</td>\n",
       "      <td>None</td>\n",
       "      <td>large</td>\n",
       "      <td>Bend</td>\n",
       "      <td>United States</td>\n",
       "      <td>6d14b220-8926-4521-8d19-b98a2d6ec3db</td>\n",
       "      <td>44.08683531</td>\n",
       "      <td>-121.281706</td>\n",
       "      <td>10 Barrel Brewing Co</td>\n",
       "      <td>5415851007</td>\n",
       "      <td>97701-9847</td>\n",
       "      <td>Oregon</td>\n",
       "      <td>62970 18th St</td>\n",
       "      <td>http://www.10barrel.com</td>\n",
       "      <td>2024-06-05</td>\n",
       "      <td>Oregon</td>\n",
       "    </tr>\n",
       "    <tr>\n",
       "      <th>1</th>\n",
       "      <td>1135 NW Galveston Ave Ste B</td>\n",
       "      <td>None</td>\n",
       "      <td>None</td>\n",
       "      <td>large</td>\n",
       "      <td>Bend</td>\n",
       "      <td>United States</td>\n",
       "      <td>e2e78bd8-80ff-4a61-a65c-3bfbd9d76ce2</td>\n",
       "      <td>44.0575649</td>\n",
       "      <td>-121.3288021</td>\n",
       "      <td>10 Barrel Brewing Co</td>\n",
       "      <td>5415851007</td>\n",
       "      <td>97703-2465</td>\n",
       "      <td>Oregon</td>\n",
       "      <td>1135 NW Galveston Ave Ste B</td>\n",
       "      <td>None</td>\n",
       "      <td>2024-06-05</td>\n",
       "      <td>Oregon</td>\n",
       "    </tr>\n",
       "    <tr>\n",
       "      <th>2</th>\n",
       "      <td>1411 NW Flanders St</td>\n",
       "      <td>None</td>\n",
       "      <td>None</td>\n",
       "      <td>large</td>\n",
       "      <td>Portland</td>\n",
       "      <td>United States</td>\n",
       "      <td>e432899b-7f58-455f-9c7b-9a6e2130a1e0</td>\n",
       "      <td>45.5259786</td>\n",
       "      <td>-122.6855056</td>\n",
       "      <td>10 Barrel Brewing Co</td>\n",
       "      <td>5032241700</td>\n",
       "      <td>97209-2620</td>\n",
       "      <td>Oregon</td>\n",
       "      <td>1411 NW Flanders St</td>\n",
       "      <td>http://www.10barrel.com</td>\n",
       "      <td>2024-06-05</td>\n",
       "      <td>Oregon</td>\n",
       "    </tr>\n",
       "    <tr>\n",
       "      <th>3</th>\n",
       "      <td>62950 NE 18th St</td>\n",
       "      <td>None</td>\n",
       "      <td>None</td>\n",
       "      <td>large</td>\n",
       "      <td>Bend</td>\n",
       "      <td>United States</td>\n",
       "      <td>9f1852da-c312-42da-9a31-097bac81c4c0</td>\n",
       "      <td>44.0912109</td>\n",
       "      <td>-121.2809536</td>\n",
       "      <td>10 Barrel Brewing Co - Bend Pub</td>\n",
       "      <td>5415851007</td>\n",
       "      <td>97701</td>\n",
       "      <td>Oregon</td>\n",
       "      <td>62950 NE 18th St</td>\n",
       "      <td>None</td>\n",
       "      <td>2024-06-05</td>\n",
       "      <td>Oregon</td>\n",
       "    </tr>\n",
       "    <tr>\n",
       "      <th>4</th>\n",
       "      <td>141 E Main St</td>\n",
       "      <td>None</td>\n",
       "      <td>None</td>\n",
       "      <td>brewpub</td>\n",
       "      <td>John Day</td>\n",
       "      <td>United States</td>\n",
       "      <td>58293321-14ae-49d7-9a7b-08436c9e63a6</td>\n",
       "      <td>44.4146563</td>\n",
       "      <td>-118.9218754</td>\n",
       "      <td>1188 Brewing Co</td>\n",
       "      <td>5415751188</td>\n",
       "      <td>97845-1210</td>\n",
       "      <td>Oregon</td>\n",
       "      <td>141 E Main St</td>\n",
       "      <td>http://www.1188brewing.com</td>\n",
       "      <td>2024-06-05</td>\n",
       "      <td>Oregon</td>\n",
       "    </tr>\n",
       "  </tbody>\n",
       "</table>\n",
       "</div>"
      ],
      "text/plain": [
       "                name_address_1 name_address_2 name_address_3 brewery_type  \\\n",
       "0                62970 18th St           None           None        large   \n",
       "1  1135 NW Galveston Ave Ste B           None           None        large   \n",
       "2          1411 NW Flanders St           None           None        large   \n",
       "3             62950 NE 18th St           None           None        large   \n",
       "4                141 E Main St           None           None      brewpub   \n",
       "\n",
       "  name_city   name_country                            id_brewery  \\\n",
       "0      Bend  United States  6d14b220-8926-4521-8d19-b98a2d6ec3db   \n",
       "1      Bend  United States  e2e78bd8-80ff-4a61-a65c-3bfbd9d76ce2   \n",
       "2  Portland  United States  e432899b-7f58-455f-9c7b-9a6e2130a1e0   \n",
       "3      Bend  United States  9f1852da-c312-42da-9a31-097bac81c4c0   \n",
       "4  John Day  United States  58293321-14ae-49d7-9a7b-08436c9e63a6   \n",
       "\n",
       "  latitude_brewery longitude_brewery                     name_brewery  \\\n",
       "0      44.08683531       -121.281706             10 Barrel Brewing Co   \n",
       "1       44.0575649      -121.3288021             10 Barrel Brewing Co   \n",
       "2       45.5259786      -122.6855056             10 Barrel Brewing Co   \n",
       "3       44.0912109      -121.2809536  10 Barrel Brewing Co - Bend Pub   \n",
       "4       44.4146563      -118.9218754                  1188 Brewing Co   \n",
       "\n",
       "  phone_brewery postal_code_brewery name_state_province  \\\n",
       "0    5415851007          97701-9847              Oregon   \n",
       "1    5415851007          97703-2465              Oregon   \n",
       "2    5032241700          97209-2620              Oregon   \n",
       "3    5415851007               97701              Oregon   \n",
       "4    5415751188          97845-1210              Oregon   \n",
       "\n",
       "                   name_street                 website_url     dt_load  \\\n",
       "0                62970 18th St     http://www.10barrel.com  2024-06-05   \n",
       "1  1135 NW Galveston Ave Ste B                        None  2024-06-05   \n",
       "2          1411 NW Flanders St     http://www.10barrel.com  2024-06-05   \n",
       "3             62950 NE 18th St                        None  2024-06-05   \n",
       "4                141 E Main St  http://www.1188brewing.com  2024-06-05   \n",
       "\n",
       "  name_state  \n",
       "0     Oregon  \n",
       "1     Oregon  \n",
       "2     Oregon  \n",
       "3     Oregon  \n",
       "4     Oregon  "
      ]
     },
     "execution_count": 10,
     "metadata": {},
     "output_type": "execute_result"
    }
   ],
   "source": [
    "validator.head()"
   ]
  },
  {
   "cell_type": "code",
   "execution_count": 31,
   "metadata": {},
   "outputs": [
    {
     "name": "stdout",
     "output_type": "stream",
     "text": [
      "+--------------+--------------+--------------+------------+---------+------------+----------+----------------+-----------------+------------+-------------+-------------------+-------------------+-----------+-----------+-------+----------+\n",
      "|name_address_1|name_address_2|name_address_3|brewery_type|name_city|name_country|id_brewery|latitude_brewery|longitude_brewery|name_brewery|phone_brewery|postal_code_brewery|name_state_province|name_street|website_url|dt_load|name_state|\n",
      "+--------------+--------------+--------------+------------+---------+------------+----------+----------------+-----------------+------------+-------------+-------------------+-------------------+-----------+-----------+-------+----------+\n",
      "+--------------+--------------+--------------+------------+---------+------------+----------+----------------+-----------------+------------+-------------+-------------------+-------------------+-----------+-----------+-------+----------+\n",
      "\n"
     ]
    }
   ],
   "source": [
    "df.filter(df.name_state.isNull()).show()"
   ]
  },
  {
   "cell_type": "code",
   "execution_count": 28,
   "metadata": {},
   "outputs": [
    {
     "data": {
      "application/vnd.jupyter.widget-view+json": {
       "model_id": "723c735c6c5f4cb98c720940963cb4e9",
       "version_major": 2,
       "version_minor": 0
      },
      "text/plain": [
       "Calculating Metrics:   0%|          | 0/8 [00:00<?, ?it/s]"
      ]
     },
     "metadata": {},
     "output_type": "display_data"
    },
    {
     "data": {
      "text/plain": [
       "{\n",
       "  \"exception_info\": {\n",
       "    \"raised_exception\": false,\n",
       "    \"exception_traceback\": null,\n",
       "    \"exception_message\": null\n",
       "  },\n",
       "  \"success\": false,\n",
       "  \"result\": {\n",
       "    \"element_count\": 50,\n",
       "    \"unexpected_count\": 3,\n",
       "    \"unexpected_percent\": 6.0,\n",
       "    \"partial_unexpected_list\": [\n",
       "      null,\n",
       "      null,\n",
       "      null\n",
       "    ]\n",
       "  },\n",
       "  \"meta\": {}\n",
       "}"
      ]
     },
     "execution_count": 28,
     "metadata": {},
     "output_type": "execute_result"
    }
   ],
   "source": [
    "validator.expect_column_values_to_not_be_null(column=\"name_address_1\")"
   ]
  }
 ],
 "metadata": {
  "kernelspec": {
   "display_name": "Python 3",
   "language": "python",
   "name": "python3"
  },
  "language_info": {
   "codemirror_mode": {
    "name": "ipython",
    "version": 3
   },
   "file_extension": ".py",
   "mimetype": "text/x-python",
   "name": "python",
   "nbconvert_exporter": "python",
   "pygments_lexer": "ipython3",
   "version": "3.9.19"
  }
 },
 "nbformat": 4,
 "nbformat_minor": 2
}
