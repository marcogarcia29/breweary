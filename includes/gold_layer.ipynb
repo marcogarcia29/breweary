{
 "cells": [
  {
   "cell_type": "code",
   "execution_count": 1,
   "metadata": {},
   "outputs": [],
   "source": [
    "from pyspark.sql import SparkSession\n",
    "from pyspark.sql.functions import *\n",
    "from pyspark.sql.window import *\n",
    "import sys\n",
    "from datetime import date, timedelta"
   ]
  },
  {
   "cell_type": "code",
   "execution_count": 2,
   "metadata": {},
   "outputs": [
    {
     "name": "stderr",
     "output_type": "stream",
     "text": [
      "Setting default log level to \"WARN\".\n",
      "To adjust logging level use sc.setLogLevel(newLevel). For SparkR, use setLogLevel(newLevel).\n",
      "24/05/30 23:06:14 WARN NativeCodeLoader: Unable to load native-hadoop library for your platform... using builtin-java classes where applicable\n"
     ]
    }
   ],
   "source": [
    "spark = SparkSession \\\n",
    "    .builder \\\n",
    "    .appName(\"Brewery\") \\\n",
    "    .getOrCreate()"
   ]
  },
  {
   "cell_type": "code",
   "execution_count": 3,
   "metadata": {},
   "outputs": [
    {
     "name": "stderr",
     "output_type": "stream",
     "text": [
      "                                                                                \r"
     ]
    }
   ],
   "source": [
    "df = spark.read.parquet(\"silver/\")"
   ]
  },
  {
   "cell_type": "code",
   "execution_count": 4,
   "metadata": {},
   "outputs": [
    {
     "name": "stderr",
     "output_type": "stream",
     "text": [
      "                                                                                \r"
     ]
    },
    {
     "name": "stdout",
     "output_type": "stream",
     "text": [
      "+--------------------+--------------+--------------+------------+----------------+-------------+--------------------+----------------+-----------------+--------------------+-------------+-------------------+-------------------+--------------------+--------------------+----------+-------------+\n",
      "|      name_address_1|name_address_2|name_address_3|brewery_type|       name_city| name_country|          id_brewery|latitude_brewery|longitude_brewery|        name_brewery|phone_brewery|postal_code_brewery|name_state_province|         name_street|         website_url|   dt_load|   name_state|\n",
      "+--------------------+--------------+--------------+------------+----------------+-------------+--------------------+----------------+-----------------+--------------------+-------------+-------------------+-------------------+--------------------+--------------------+----------+-------------+\n",
      "|       62970 18th St|          NULL|          NULL|       large|            Bend|United States|6d14b220-8926-452...|     44.08683531|      -121.281706|10 Barrel Brewing Co|   5415851007|         97701-9847|             Oregon|       62970 18th St|http://www.10barr...|2024-05-30|       Oregon|\n",
      "|1135 NW Galveston...|          NULL|          NULL|       large|            Bend|United States|e2e78bd8-80ff-4a6...|      44.0575649|     -121.3288021|10 Barrel Brewing Co|   5415851007|         97703-2465|             Oregon|1135 NW Galveston...|                NULL|2024-05-30|       Oregon|\n",
      "| 1411 NW Flanders St|          NULL|          NULL|       large|        Portland|United States|e432899b-7f58-455...|      45.5259786|     -122.6855056|10 Barrel Brewing Co|   5032241700|         97209-2620|             Oregon| 1411 NW Flanders St|http://www.10barr...|2024-05-30|       Oregon|\n",
      "|    62950 NE 18th St|          NULL|          NULL|       large|            Bend|United States|9f1852da-c312-42d...|      44.0912109|     -121.2809536|10 Barrel Brewing...|   5415851007|              97701|             Oregon|    62950 NE 18th St|                NULL|2024-05-30|       Oregon|\n",
      "|       141 E Main St|          NULL|          NULL|     brewpub|        John Day|United States|58293321-14ae-49d...|      44.4146563|     -118.9218754|     1188 Brewing Co|   5415751188|         97845-1210|             Oregon|       141 E Main St|http://www.1188br...|2024-05-30|       Oregon|\n",
      "|6410 SE Milwaukie...|          NULL|          NULL|     brewpub|        Portland|United States|936c3d7e-5d54-445...|      45.4762536|     -122.6487531|13 Virtues Brewin...|   5032393831|         97202-5518|             Oregon|6410 SE Milwaukie...|http://www.13virt...|2024-05-30|       Oregon|\n",
      "|           1501 E St|          NULL|          NULL|       large|       San Diego|United States|ef970757-fe42-416...|       32.714813|      -117.129593|10 Barrel Brewing Co|   6195782311|         92101-6618|         California|           1501 E St| http://10barrel.com|2024-05-30|   California|\n",
      "| 1304 Scott St Ste D|          NULL|          NULL|      closed|        Petaluma|United States|5ae467af-66dc-4d7...|     38.27029381|      -122.665055|101 North Brewing...|   7077534934|         94954-7100|         California| 1304 Scott St Ste D|http://www.101nor...|2024-05-30|   California|\n",
      "|31125 Via Colinas...|          NULL|          NULL|       micro|Westlake Village|United States|4788221a-a03b-458...|        34.15334|      -118.802397|14 Cannons Brewin...|   8186996165|         91362-3974|         California|31125 Via Colinas...|http://14cannons.com|2024-05-30|   California|\n",
      "|                NULL|          NULL|          NULL|       micro|        Mariposa|United States|fe6b9893-b93e-43d...|       37.570148|     -119.9036592|1850 Brewing Company|         NULL|              95338|         California|                NULL|http://www.1850re...|2024-05-30|   California|\n",
      "|      2620 Walnut St|          NULL|          NULL|       large|          Denver|United States|1988eb86-f0a2-467...|      39.7592508|     -104.9853655|10 Barrel Brewing...|   7205738992|         80205-2231|           Colorado|      2620 Walnut St|                NULL|2024-05-30|     Colorado|\n",
      "|        1043 Park St|          NULL|          NULL|       micro|     Castle Rock|United States|4ffda196-dd59-44a...|     39.38269495|     -104.8667206| 105 West Brewing Co|   3033257321|         80109-1585|           Colorado|        1043 Park St|http://www.105wes...|2024-05-30|     Colorado|\n",
      "|         820 Main St|          NULL|          NULL|     brewpub|      Louisville|United States|06e9fffb-e820-45c...|      39.9782443|     -105.1319826|    12Degree Brewing|   3035791004|         80027-1865|           Colorado|         820 Main St|http://www.12degr...|2024-05-30|     Colorado|\n",
      "|      2801 Walnut St|          NULL|          NULL|  proprietor|          Denver|United States|4b677b60-fef1-42e...|      39.7614112|     -104.9839636|14er Brewing Company|   7207731437|         80205-2235|           Colorado|      2801 Walnut St|http://www.14erBr...|2024-05-30|     Colorado|\n",
      "|   491 Washington St|          NULL|          NULL|       micro|        Abington|United States|232e8f62-9afc-45f...|     42.10591754|     -70.94594149|10th District Bre...|   7813071554|         02351-2419|      Massachusetts|   491 Washington St|http://www.10thdi...|2024-05-30|Massachusetts|\n",
      "|       400 Brown Cir|          NULL|          NULL|       micro|            Knox|United States|7531dbd8-afc9-4b5...|       41.289715|       -86.627954|10-56 Brewing Com...|   6308165790|              46534|            Indiana|       400 Brown Cir|                NULL|2024-05-30|      Indiana|\n",
      "|     5725 Miller Ave|          NULL|          NULL|       micro|            Gary|United States|b51f3cdf-60ff-4ae...|     41.59928343|     -87.26887786| 18th Street Brewery|         NULL|         46403-2871|            Indiana|     5725 Miller Ave|http://www.18thst...|2024-05-30|      Indiana|\n",
      "|     5417 Oakley Ave|          NULL|          NULL|       micro|         Hammond|United States|add7f978-942e-4d5...|     41.61556796|       -87.517422| 18th Street Brewery|         NULL|         46320-1817|            Indiana|     5417 Oakley Ave|                NULL|2024-05-30|      Indiana|\n",
      "|3000 E Ray Rd Bldg 6|          NULL|          NULL|       micro|         Gilbert|United States|fb94830f-6196-4f5...|            NULL|             NULL|12 West Brewing C...|   6023395014|         85296-7832|            Arizona|3000 E Ray Rd Bldg 6|http://www.12west...|2024-05-30|      Arizona|\n",
      "|                NULL|          NULL|          NULL|       micro|            Mesa|United States|0faa0fb2-fffa-416...|       33.436188|     -111.5860662|12 West Brewing C...|         NULL|              85207|            Arizona|                NULL|                NULL|2024-05-30|      Arizona|\n",
      "+--------------------+--------------+--------------+------------+----------------+-------------+--------------------+----------------+-----------------+--------------------+-------------+-------------------+-------------------+--------------------+--------------------+----------+-------------+\n",
      "only showing top 20 rows\n",
      "\n"
     ]
    }
   ],
   "source": [
    "df.show()"
   ]
  },
  {
   "cell_type": "code",
   "execution_count": 5,
   "metadata": {},
   "outputs": [],
   "source": [
    "df = df.withColumn('index',row_number().over(Window.partitionBy(col(\"id_brewery\")).orderBy(col(\"dt_load\").desc())))\n",
    "df = df.filter(df.index == 1) \n",
    "    \n",
    "df = df.drop(\"index\")"
   ]
  },
  {
   "cell_type": "code",
   "execution_count": 6,
   "metadata": {},
   "outputs": [
    {
     "name": "stderr",
     "output_type": "stream",
     "text": [
      "[Stage 3:>                                                          (0 + 7) / 7]\r"
     ]
    },
    {
     "name": "stdout",
     "output_type": "stream",
     "text": [
      "+------------+--------------+-----+\n",
      "|brewery_type|    name_state|count|\n",
      "+------------+--------------+-----+\n",
      "|       micro|     Wisconsin|    2|\n",
      "|      closed|    California|    1|\n",
      "|       large|        Oregon|    4|\n",
      "|      closed|    Washington|    1|\n",
      "|       micro|      Virginia|    1|\n",
      "|       micro| Massachusetts|    1|\n",
      "|       micro|          Iowa|    1|\n",
      "|       micro|      Oklahoma|    1|\n",
      "|       micro|      Michigan|    1|\n",
      "|       micro|North Carolina|    1|\n",
      "|     brewpub|      New York|    2|\n",
      "|       micro|     Minnesota|    3|\n",
      "|       micro|      Colorado|    1|\n",
      "|       micro|         Laois|    1|\n",
      "|       micro|  Pennsylvania|    1|\n",
      "|       micro|    California|    2|\n",
      "|       micro|        Nevada|    1|\n",
      "|       micro|       Vermont|    1|\n",
      "|     brewpub|South Carolina|    1|\n",
      "|       large|      Colorado|    1|\n",
      "+------------+--------------+-----+\n",
      "only showing top 20 rows\n",
      "\n"
     ]
    },
    {
     "name": "stderr",
     "output_type": "stream",
     "text": [
      "                                                                                \r"
     ]
    }
   ],
   "source": [
    "df.groupBy(df.brewery_type, df.name_state).count().show()"
   ]
  },
  {
   "cell_type": "code",
   "execution_count": 7,
   "metadata": {},
   "outputs": [],
   "source": [
    "df = df.groupBy(df.brewery_type, df.name_state).count()"
   ]
  },
  {
   "cell_type": "code",
   "execution_count": 8,
   "metadata": {},
   "outputs": [],
   "source": [
    "df = df.withColumnRenamed(\"count\", \"qty_brewery_type_and_location\")"
   ]
  },
  {
   "cell_type": "code",
   "execution_count": 9,
   "metadata": {},
   "outputs": [],
   "source": [
    "today = date.today()"
   ]
  },
  {
   "cell_type": "code",
   "execution_count": 11,
   "metadata": {},
   "outputs": [
    {
     "name": "stderr",
     "output_type": "stream",
     "text": [
      "                                                                                \r"
     ]
    }
   ],
   "source": [
    "df.write.format(\"parquet\").mode(\"append\")\\\n",
    "        .option(\"mergeSchema\", \"true\").save(f'gold/day{today}')"
   ]
  }
 ],
 "metadata": {
  "kernelspec": {
   "display_name": "Python 3",
   "language": "python",
   "name": "python3"
  },
  "language_info": {
   "codemirror_mode": {
    "name": "ipython",
    "version": 3
   },
   "file_extension": ".py",
   "mimetype": "text/x-python",
   "name": "python",
   "nbconvert_exporter": "python",
   "pygments_lexer": "ipython3",
   "version": "3.10.12"
  }
 },
 "nbformat": 4,
 "nbformat_minor": 2
}
